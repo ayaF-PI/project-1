{
 "cells": [
  {
   "cell_type": "code",
   "execution_count": 248,
   "metadata": {},
   "outputs": [],
   "source": [
    "import csv\n",
    "import pandas as pd\n",
    "import datetime\n",
    "from pathlib import Path\n",
    "import statistics\n",
    "import numpy as np\n"
   ]
  },
  {
   "cell_type": "code",
   "execution_count": 249,
   "metadata": {},
   "outputs": [],
   "source": [
    "#Create path for bus route and ridership data\n",
    "cta_bus_routes = Path(r\"C:\\Users\\jasmi\\OneDrive\\Documents\\Project-1\\Resources\\bus_routes.csv\")\n",
    "cta_riders = Path(r\"C:\\Users\\jasmi\\OneDrive\\Documents\\Project-1\\Resources\\ridership_2013_2023.csv\")\n",
    "\n",
    "#Store into pandas data frame\n",
    "cta_bus_routes_df = pd.read_csv(cta_bus_routes)\n",
    "cta_riders_df = pd.read_csv(cta_riders)\n"
   ]
  },
  {
   "cell_type": "code",
   "execution_count": 250,
   "metadata": {},
   "outputs": [
    {
     "data": {
      "text/plain": [
       "127"
      ]
     },
     "execution_count": 250,
     "metadata": {},
     "output_type": "execute_result"
    }
   ],
   "source": [
    "# Open and read bus route CSV file\n",
    "\n",
    "with open(cta_bus_routes) as csvfile:\n",
    "    csvreader = csv.reader(csvfile, delimiter=\",\")\n",
    "\n",
    "# Skip header row and count the total number of votes recorded\n",
    "#Calculate the total number of bus routes in Chicago\n",
    "\n",
    "    next(csvreader)\n",
    "    cta_bus_routes = list(csvreader)\n",
    "    total_bus_routes = len(cta_bus_routes)\n",
    "\n",
    "#print the total number of bus routes in Chicago\n",
    "total_bus_routes"
   ]
  },
  {
   "cell_type": "code",
   "execution_count": 251,
   "metadata": {},
   "outputs": [
    {
     "data": {
      "text/html": [
       "<div>\n",
       "<style scoped>\n",
       "    .dataframe tbody tr th:only-of-type {\n",
       "        vertical-align: middle;\n",
       "    }\n",
       "\n",
       "    .dataframe tbody tr th {\n",
       "        vertical-align: top;\n",
       "    }\n",
       "\n",
       "    .dataframe thead th {\n",
       "        text-align: right;\n",
       "    }\n",
       "</style>\n",
       "<table border=\"1\" class=\"dataframe\">\n",
       "  <thead>\n",
       "    <tr style=\"text-align: right;\">\n",
       "      <th></th>\n",
       "      <th>service_date</th>\n",
       "      <th>day_type</th>\n",
       "      <th>bus</th>\n",
       "      <th>rail_boardings</th>\n",
       "      <th>total_rides</th>\n",
       "    </tr>\n",
       "  </thead>\n",
       "  <tbody>\n",
       "    <tr>\n",
       "      <th>0</th>\n",
       "      <td>2013-01-01</td>\n",
       "      <td>U</td>\n",
       "      <td>338644</td>\n",
       "      <td>276167</td>\n",
       "      <td>614811</td>\n",
       "    </tr>\n",
       "    <tr>\n",
       "      <th>1</th>\n",
       "      <td>2013-01-02</td>\n",
       "      <td>W</td>\n",
       "      <td>747631</td>\n",
       "      <td>570506</td>\n",
       "      <td>1318137</td>\n",
       "    </tr>\n",
       "    <tr>\n",
       "      <th>2</th>\n",
       "      <td>2013-01-03</td>\n",
       "      <td>W</td>\n",
       "      <td>857744</td>\n",
       "      <td>620104</td>\n",
       "      <td>1477848</td>\n",
       "    </tr>\n",
       "    <tr>\n",
       "      <th>3</th>\n",
       "      <td>2013-01-04</td>\n",
       "      <td>W</td>\n",
       "      <td>875485</td>\n",
       "      <td>635401</td>\n",
       "      <td>1510886</td>\n",
       "    </tr>\n",
       "    <tr>\n",
       "      <th>4</th>\n",
       "      <td>2013-01-05</td>\n",
       "      <td>A</td>\n",
       "      <td>549303</td>\n",
       "      <td>356383</td>\n",
       "      <td>905686</td>\n",
       "    </tr>\n",
       "  </tbody>\n",
       "</table>\n",
       "</div>"
      ],
      "text/plain": [
       "  service_date day_type     bus  rail_boardings  total_rides\n",
       "0   2013-01-01        U  338644          276167       614811\n",
       "1   2013-01-02        W  747631          570506      1318137\n",
       "2   2013-01-03        W  857744          620104      1477848\n",
       "3   2013-01-04        W  875485          635401      1510886\n",
       "4   2013-01-05        A  549303          356383       905686"
      ]
     },
     "execution_count": 251,
     "metadata": {},
     "output_type": "execute_result"
    }
   ],
   "source": [
    "#data frame contains cta data from 01/01/2013 - 12/31/2023\n",
    "cta_riders_df['service_date'] = pd.to_datetime(cta_riders_df['service_date'])\n",
    "cta_riders_df.head()\n"
   ]
  },
  {
   "cell_type": "code",
   "execution_count": 252,
   "metadata": {},
   "outputs": [
    {
     "data": {
      "text/plain": [
       "2400569460"
      ]
     },
     "execution_count": 252,
     "metadata": {},
     "output_type": "execute_result"
    }
   ],
   "source": [
    "# Total number of bus riders\n",
    "total_bus_riders = cta_riders_df['bus'].sum()\n",
    "total_bus_riders\n"
   ]
  },
  {
   "cell_type": "code",
   "execution_count": 253,
   "metadata": {},
   "outputs": [
    {
     "data": {
      "text/plain": [
       "80783"
      ]
     },
     "execution_count": 253,
     "metadata": {},
     "output_type": "execute_result"
    }
   ],
   "source": [
    "# Lowest number of bus riders\n",
    "min_bus_riders = cta_riders_df['bus'].min()\n",
    "min_bus_riders"
   ]
  },
  {
   "cell_type": "code",
   "execution_count": 254,
   "metadata": {},
   "outputs": [
    {
     "data": {
      "text/plain": [
       "1100251"
      ]
     },
     "execution_count": 254,
     "metadata": {},
     "output_type": "execute_result"
    }
   ],
   "source": [
    "# Highest number of bus riders\n",
    "max_bus_riders = cta_riders_df['bus'].max()\n",
    "max_bus_riders"
   ]
  },
  {
   "cell_type": "code",
   "execution_count": 255,
   "metadata": {},
   "outputs": [
    {
     "data": {
      "text/plain": [
       "539617.0"
      ]
     },
     "execution_count": 255,
     "metadata": {},
     "output_type": "execute_result"
    }
   ],
   "source": [
    "med_bus_riders = cta_riders_df['bus'].median()\n",
    "med_bus_riders\n"
   ]
  },
  {
   "cell_type": "code",
   "execution_count": 256,
   "metadata": {},
   "outputs": [
    {
     "data": {
      "text/plain": [
       "0.25    375720.5\n",
       "0.50    539617.0\n",
       "0.75    829277.5\n",
       "Name: bus, dtype: float64"
      ]
     },
     "execution_count": 256,
     "metadata": {},
     "output_type": "execute_result"
    }
   ],
   "source": [
    "data = pd.Series(cta_riders_df['bus'])\n",
    "bus_quartiles = data.quantile([0.25,0.5,0.75])\n",
    "bus_quartiles\n",
    "#df.quantile(q=[0.25, 0.75], axis=0, numeric_only=True, interpolation='midpoint')"
   ]
  },
  {
   "cell_type": "code",
   "execution_count": 257,
   "metadata": {},
   "outputs": [
    {
     "data": {
      "text/plain": [
       "593172.5871015567"
      ]
     },
     "execution_count": 257,
     "metadata": {},
     "output_type": "execute_result"
    }
   ],
   "source": [
    "# Average bus riders \n",
    "avg_bus_riders = cta_riders_df['bus'].mean()\n",
    "avg_bus_riders"
   ]
  },
  {
   "cell_type": "code",
   "execution_count": 258,
   "metadata": {},
   "outputs": [
    {
     "name": "stdout",
     "output_type": "stream",
     "text": [
      "Lower Bound: -304615.0\n",
      "Upper Bound: 1509613.0\n",
      "Outliers: []\n"
     ]
    }
   ],
   "source": [
    "# Bus rider dataset\n",
    "bus_data_o = cta_riders_df['bus']\n",
    "\n",
    "# Calculate Q1, Q3, and IQR\n",
    "Q1 = np.percentile(data, 25)\n",
    "Q3 = np.percentile(data, 75)\n",
    "IQR = Q3 - Q1\n",
    "\n",
    "# Calculate lower and upper bounds\n",
    "lower_bound = Q1 - 1.5 * IQR\n",
    "upper_bound = Q3 + 1.5 * IQR\n",
    "\n",
    "# Identify outliers\n",
    "outliers = [x for x in data if x < lower_bound or x > upper_bound]\n",
    "\n",
    "print(\"Lower Bound:\", lower_bound)\n",
    "print(\"Upper Bound:\", upper_bound)\n",
    "print(\"Outliers:\", outliers)"
   ]
  },
  {
   "cell_type": "code",
   "execution_count": 259,
   "metadata": {},
   "outputs": [
    {
     "data": {
      "text/plain": [
       "2017341062"
      ]
     },
     "execution_count": 259,
     "metadata": {},
     "output_type": "execute_result"
    }
   ],
   "source": [
    "# Total number of train riders \n",
    "total_train_riders = cta_riders_df['rail_boardings'].sum()\n",
    "total_train_riders"
   ]
  },
  {
   "cell_type": "code",
   "execution_count": 260,
   "metadata": {},
   "outputs": [
    {
     "data": {
      "text/plain": [
       "23544"
      ]
     },
     "execution_count": 260,
     "metadata": {},
     "output_type": "execute_result"
    }
   ],
   "source": [
    "# Lowest number of train riders\n",
    "min_train_riders = cta_riders_df['rail_boardings'].min()\n",
    "min_train_riders"
   ]
  },
  {
   "cell_type": "code",
   "execution_count": 261,
   "metadata": {},
   "outputs": [
    {
     "data": {
      "text/plain": [
       "1146516"
      ]
     },
     "execution_count": 261,
     "metadata": {},
     "output_type": "execute_result"
    }
   ],
   "source": [
    "#Highest number of train riders \n",
    "max_train_riders = cta_riders_df['rail_boardings'].max()\n",
    "max_train_riders"
   ]
  },
  {
   "cell_type": "code",
   "execution_count": 262,
   "metadata": {},
   "outputs": [
    {
     "data": {
      "text/plain": [
       "456039.0"
      ]
     },
     "execution_count": 262,
     "metadata": {},
     "output_type": "execute_result"
    }
   ],
   "source": [
    "med_train_riders = cta_riders_df['rail_boardings'].median()\n",
    "med_train_riders"
   ]
  },
  {
   "cell_type": "code",
   "execution_count": 263,
   "metadata": {},
   "outputs": [
    {
     "data": {
      "text/plain": [
       "0.25    296012.0\n",
       "0.50    456039.0\n",
       "0.75    743390.0\n",
       "Name: rail_boardings, dtype: float64"
      ]
     },
     "execution_count": 263,
     "metadata": {},
     "output_type": "execute_result"
    }
   ],
   "source": [
    "data = pd.Series(cta_riders_df['rail_boardings'])\n",
    "train_quartiles = data.quantile([0.25,0.5,0.75])\n",
    "train_quartiles"
   ]
  },
  {
   "cell_type": "code",
   "execution_count": 264,
   "metadata": {},
   "outputs": [
    {
     "data": {
      "text/plain": [
       "498478.14726958243"
      ]
     },
     "execution_count": 264,
     "metadata": {},
     "output_type": "execute_result"
    }
   ],
   "source": [
    "# Average train riders \n",
    "avg_train_riders = cta_riders_df['rail_boardings'].mean()\n",
    "avg_train_riders"
   ]
  },
  {
   "cell_type": "code",
   "execution_count": 265,
   "metadata": {},
   "outputs": [
    {
     "name": "stdout",
     "output_type": "stream",
     "text": [
      "Lower Bound: -375055.0\n",
      "Upper Bound: 1414457.0\n",
      "Outliers: []\n"
     ]
    }
   ],
   "source": [
    "# Train rider dataset\n",
    "train_data_o = cta_riders_df['rail_boardings']\n",
    "\n",
    "# Calculate Q1, Q3, and IQR\n",
    "Q1 = np.percentile(data, 25)\n",
    "Q3 = np.percentile(data, 75)\n",
    "IQR = Q3 - Q1\n",
    "\n",
    "# Calculate lower and upper bounds\n",
    "lower_bound = Q1 - 1.5 * IQR\n",
    "upper_bound = Q3 + 1.5 * IQR\n",
    "\n",
    "# Identify outliers\n",
    "outliers = [x for x in data if x < lower_bound or x > upper_bound]\n",
    "\n",
    "print(\"Lower Bound:\", lower_bound)\n",
    "print(\"Upper Bound:\", upper_bound)\n",
    "print(\"Outliers:\", outliers)"
   ]
  },
  {
   "cell_type": "code",
   "execution_count": 266,
   "metadata": {},
   "outputs": [
    {
     "data": {
      "text/plain": [
       "1091650.7343711392"
      ]
     },
     "execution_count": 266,
     "metadata": {},
     "output_type": "execute_result"
    }
   ],
   "source": [
    "# Average of total cta riders\n",
    "avg_cta_riders = cta_riders_df['total_rides'].mean()\n",
    "avg_cta_riders"
   ]
  }
 ],
 "metadata": {
  "kernelspec": {
   "display_name": "dev",
   "language": "python",
   "name": "python3"
  },
  "language_info": {
   "codemirror_mode": {
    "name": "ipython",
    "version": 3
   },
   "file_extension": ".py",
   "mimetype": "text/x-python",
   "name": "python",
   "nbconvert_exporter": "python",
   "pygments_lexer": "ipython3",
   "version": "3.10.14"
  }
 },
 "nbformat": 4,
 "nbformat_minor": 2
}
