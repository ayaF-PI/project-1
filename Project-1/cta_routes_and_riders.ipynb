{
 "cells": [
  {
   "cell_type": "code",
   "execution_count": 65,
   "metadata": {},
   "outputs": [],
   "source": [
    "import csv\n",
    "import pandas as pd\n",
    "import datetime\n",
    "from pathlib import Path"
   ]
  },
  {
   "cell_type": "code",
   "execution_count": 66,
   "metadata": {},
   "outputs": [],
   "source": [
    "#Create path for bus route and ridership data\n",
    "cta_bus_routes = Path(r\"C:\\Users\\jasmi\\OneDrive\\Documents\\Project-1\\Resources\\bus_routes.csv\")\n",
    "cta_riders = Path(r\"C:\\Users\\jasmi\\OneDrive\\Documents\\Project-1\\Resources\\ridership_2013_2023.csv\")\n",
    "\n",
    "#Store into pandas data frame\n",
    "cta_bus_routes_df = pd.read_csv(cta_bus_routes)\n",
    "cta_riders_df = pd.read_csv(cta_riders)\n"
   ]
  },
  {
   "cell_type": "code",
   "execution_count": 68,
   "metadata": {},
   "outputs": [
    {
     "data": {
      "text/plain": [
       "127"
      ]
     },
     "execution_count": 68,
     "metadata": {},
     "output_type": "execute_result"
    }
   ],
   "source": [
    "# Open and read bus route CSV file\n",
    "\n",
    "with open(cta_bus_routes) as csvfile:\n",
    "    csvreader = csv.reader(csvfile, delimiter=\",\")\n",
    "\n",
    "# Skip header row and count the total number of votes recorded\n",
    "#Calculate the total number of bus routes in Chicago\n",
    "\n",
    "    next(csvreader)\n",
    "    cta_bus_routes = list(csvreader)\n",
    "    total_bus_routes = len(cta_bus_routes)\n",
    "\n",
    "#print the total number of bus routes in Chicago\n",
    "total_bus_routes"
   ]
  },
  {
   "cell_type": "code",
   "execution_count": 78,
   "metadata": {},
   "outputs": [
    {
     "data": {
      "text/html": [
       "<div>\n",
       "<style scoped>\n",
       "    .dataframe tbody tr th:only-of-type {\n",
       "        vertical-align: middle;\n",
       "    }\n",
       "\n",
       "    .dataframe tbody tr th {\n",
       "        vertical-align: top;\n",
       "    }\n",
       "\n",
       "    .dataframe thead th {\n",
       "        text-align: right;\n",
       "    }\n",
       "</style>\n",
       "<table border=\"1\" class=\"dataframe\">\n",
       "  <thead>\n",
       "    <tr style=\"text-align: right;\">\n",
       "      <th></th>\n",
       "      <th>service_date</th>\n",
       "      <th>day_type</th>\n",
       "      <th>bus</th>\n",
       "      <th>rail_boardings</th>\n",
       "      <th>total_rides</th>\n",
       "    </tr>\n",
       "  </thead>\n",
       "  <tbody>\n",
       "    <tr>\n",
       "      <th>0</th>\n",
       "      <td>2013-01-01</td>\n",
       "      <td>U</td>\n",
       "      <td>338644</td>\n",
       "      <td>276167</td>\n",
       "      <td>614811</td>\n",
       "    </tr>\n",
       "    <tr>\n",
       "      <th>1</th>\n",
       "      <td>2013-01-02</td>\n",
       "      <td>W</td>\n",
       "      <td>747631</td>\n",
       "      <td>570506</td>\n",
       "      <td>1318137</td>\n",
       "    </tr>\n",
       "    <tr>\n",
       "      <th>2</th>\n",
       "      <td>2013-01-03</td>\n",
       "      <td>W</td>\n",
       "      <td>857744</td>\n",
       "      <td>620104</td>\n",
       "      <td>1477848</td>\n",
       "    </tr>\n",
       "    <tr>\n",
       "      <th>3</th>\n",
       "      <td>2013-01-04</td>\n",
       "      <td>W</td>\n",
       "      <td>875485</td>\n",
       "      <td>635401</td>\n",
       "      <td>1510886</td>\n",
       "    </tr>\n",
       "    <tr>\n",
       "      <th>4</th>\n",
       "      <td>2013-01-05</td>\n",
       "      <td>A</td>\n",
       "      <td>549303</td>\n",
       "      <td>356383</td>\n",
       "      <td>905686</td>\n",
       "    </tr>\n",
       "  </tbody>\n",
       "</table>\n",
       "</div>"
      ],
      "text/plain": [
       "  service_date day_type     bus  rail_boardings  total_rides\n",
       "0   2013-01-01        U  338644          276167       614811\n",
       "1   2013-01-02        W  747631          570506      1318137\n",
       "2   2013-01-03        W  857744          620104      1477848\n",
       "3   2013-01-04        W  875485          635401      1510886\n",
       "4   2013-01-05        A  549303          356383       905686"
      ]
     },
     "execution_count": 78,
     "metadata": {},
     "output_type": "execute_result"
    }
   ],
   "source": [
    "#data frame contains cta data from 01/01/2013 - 12/31/2023\n",
    "cta_riders_df['service_date'] = pd.to_datetime(cta_riders_df['service_date'])\n",
    "cta_riders_df.head()\n"
   ]
  },
  {
   "cell_type": "code",
   "execution_count": 74,
   "metadata": {},
   "outputs": [
    {
     "data": {
      "text/plain": [
       "2400569460"
      ]
     },
     "execution_count": 74,
     "metadata": {},
     "output_type": "execute_result"
    }
   ],
   "source": [
    "# Total number of bus riders\n",
    "total_bus_riders = cta_riders_df['bus'].sum()\n",
    "total_bus_riders\n"
   ]
  },
  {
   "cell_type": "code",
   "execution_count": 77,
   "metadata": {},
   "outputs": [
    {
     "data": {
      "text/plain": [
       "593172.5871015567"
      ]
     },
     "execution_count": 77,
     "metadata": {},
     "output_type": "execute_result"
    }
   ],
   "source": [
    "# Average bus riders \n",
    "avg_bus_riders = cta_riders_df['bus'].mean()\n",
    "avg_bus_riders"
   ]
  },
  {
   "cell_type": "code",
   "execution_count": 75,
   "metadata": {},
   "outputs": [
    {
     "data": {
      "text/plain": [
       "2017341062"
      ]
     },
     "execution_count": 75,
     "metadata": {},
     "output_type": "execute_result"
    }
   ],
   "source": [
    "# Total number of train riders \n",
    "total_train_riders = cta_riders_df['rail_boardings'].sum()\n",
    "total_train_riders"
   ]
  },
  {
   "cell_type": "code",
   "execution_count": 76,
   "metadata": {},
   "outputs": [
    {
     "data": {
      "text/plain": [
       "498478.14726958243"
      ]
     },
     "execution_count": 76,
     "metadata": {},
     "output_type": "execute_result"
    }
   ],
   "source": [
    "# Average train riders \n",
    "avg_train_riders = cta_riders_df['rail_boardings'].mean()\n",
    "avg_train_riders"
   ]
  },
  {
   "cell_type": "code",
   "execution_count": 80,
   "metadata": {},
   "outputs": [
    {
     "data": {
      "text/plain": [
       "1091650.7343711392"
      ]
     },
     "execution_count": 80,
     "metadata": {},
     "output_type": "execute_result"
    }
   ],
   "source": [
    "# Average of total cta riders\n",
    "avg_cta_riders = cta_riders_df['total_rides'].mean()\n",
    "avg_cta_riders"
   ]
  },
  {
   "cell_type": "code",
   "execution_count": null,
   "metadata": {},
   "outputs": [],
   "source": []
  }
 ],
 "metadata": {
  "kernelspec": {
   "display_name": "dev",
   "language": "python",
   "name": "python3"
  },
  "language_info": {
   "codemirror_mode": {
    "name": "ipython",
    "version": 3
   },
   "file_extension": ".py",
   "mimetype": "text/x-python",
   "name": "python",
   "nbconvert_exporter": "python",
   "pygments_lexer": "ipython3",
   "version": "3.10.14"
  }
 },
 "nbformat": 4,
 "nbformat_minor": 2
}
